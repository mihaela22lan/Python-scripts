{
 "cells": [
  {
   "cell_type": "markdown",
   "metadata": {},
   "source": [
    "**Data visualization test**\n",
    "\n",
    "The following file (​link​) contains simulated data for our paysites for 2017. Each row represents a transaction (a join, a rebill, a refund, etc.) plus some attributes. Please perform the following tasks:\n",
    "- Document the meaning of each column of the data set. Document also the data type and the possible values.\n",
    "- Answer the following questions:\n",
    "    - How many subscriptions did we acquire (initial & trial transaction types)?\n",
    "        - Graph this over time (monthly based).\n",
    "        - Create a graph with the split per site (without monthly evolution)\n",
    "    - Calculate the contribution (income minus refunds minus affiliate payout) for each\n",
    "    subscription. Rank the top 20 and the last 20 in two different tables.\n",
    "    - Rank the traffic sources from highest to lowest contribution.\n",
    "    - Rank the countries from highest to lowest refunds. Chart them on a map.\n",
    "Submit the charts, tables and whatever ​insights​ you want to add in PDF format.\n",
    "The goal of the exercise is to test your ability to manipulate data, build meaningful charts from a business perspective and how you communicate the insights you find from the data. Besides, we want to test what kind of questions you ask in order to understand a request for an analysis.\n"
   ]
  },
  {
   "cell_type": "code",
   "execution_count": 291,
   "metadata": {},
   "outputs": [
    {
     "ename": "SyntaxError",
     "evalue": "invalid syntax (<ipython-input-291-9a4d81c8ad36>, line 3)",
     "output_type": "error",
     "traceback": [
      "\u001b[0;36m  File \u001b[0;32m\"<ipython-input-291-9a4d81c8ad36>\"\u001b[0;36m, line \u001b[0;32m3\u001b[0m\n\u001b[0;31m    Transaction Id              int\u001b[0m\n\u001b[0m                 ^\u001b[0m\n\u001b[0;31mSyntaxError\u001b[0m\u001b[0;31m:\u001b[0m invalid syntax\n"
     ]
    }
   ],
   "source": [
    "#Column names & data types\n",
    "\n",
    "Transaction Id              int\n",
    "Day of Transaction Date     date\n",
    "Transaction Number          int\n",
    "Subscription Id             int\n",
    "Traffic source              varchar\n",
    "Country                     varchar\n",
    "Transaction Type            enum\n",
    "Site                        varchar\n",
    "Payout                      decimal\n",
    "Revenue                     decimal"
   ]
  },
  {
   "cell_type": "code",
   "execution_count": null,
   "metadata": {},
   "outputs": [],
   "source": []
  },
  {
   "cell_type": "code",
   "execution_count": 9,
   "metadata": {},
   "outputs": [
    {
     "name": "stdout",
     "output_type": "stream",
     "text": [
      "   Transaction Id Day of Transaction Date  Unnamed: 2  Subscription Id  \\\n",
      "0               1         January 1, 2017     3002665            30848   \n",
      "1               2         January 1, 2017     3002666            30849   \n",
      "2               3         January 1, 2017     3002664            30847   \n",
      "\n",
      "       Traffic source        Country Transaction Type    Site  Payout  Revenue  \n",
      "0   Traffic source 95  United States            trial  Site 3     0.0    28.50  \n",
      "1   Traffic source 95  United States          initial  Site 3     0.0    14.28  \n",
      "2  Traffic source 222  United States          initial  Site 5     0.0     0.86  \n"
     ]
    }
   ],
   "source": [
    "import pandas as pd\n",
    "import seaborn as sns\n",
    "from matplotlib import pyplot as plt\n",
    "\n",
    "df = pd.read_csv(\"paysites data - 2017.csv\") \n",
    "print(df.head(3))"
   ]
  },
  {
   "cell_type": "code",
   "execution_count": 10,
   "metadata": {},
   "outputs": [
    {
     "data": {
      "text/plain": [
       "Index(['Transaction Id', 'Day of Transaction Date', 'Unnamed: 2',\n",
       "       'Subscription Id', 'Traffic source', 'Country', 'Transaction Type',\n",
       "       'Site', 'Payout', 'Revenue'],\n",
       "      dtype='object')"
      ]
     },
     "execution_count": 10,
     "metadata": {},
     "output_type": "execute_result"
    }
   ],
   "source": [
    "df.columns"
   ]
  },
  {
   "cell_type": "markdown",
   "metadata": {},
   "source": [
    "**Document the meaning of each column of the data set. Document also the data type and the possible values.**\n"
   ]
  },
  {
   "cell_type": "code",
   "execution_count": 11,
   "metadata": {},
   "outputs": [
    {
     "name": "stdout",
     "output_type": "stream",
     "text": [
      "   tr_id          tr_date   acc_id  sub_id      traffic_source             co  \\\n",
      "0      1  January 1, 2017  3002665   30848   Traffic source 95  United States   \n",
      "1      2  January 1, 2017  3002666   30849   Traffic source 95  United States   \n",
      "2      3  January 1, 2017  3002664   30847  Traffic source 222  United States   \n",
      "3      4  January 1, 2017  3002667   30850   Traffic source 73      Australia   \n",
      "4      5  January 1, 2017  3002668   30851   Traffic source 95  United States   \n",
      "\n",
      "   tr_type    site  payout  revenue  \n",
      "0    trial  Site 3     0.0    28.50  \n",
      "1  initial  Site 3     0.0    14.28  \n",
      "2  initial  Site 5     0.0     0.86  \n",
      "3  initial  Site 5    17.2   130.50  \n",
      "4  initial  Site 3     0.0   119.44  \n"
     ]
    }
   ],
   "source": [
    "df.rename(columns={\"Transaction Id\": \"tr_id\", \"Day of Transaction Date\": \"tr_date\",\\\n",
    "                 \"Unnamed: 2\": \"acc_id\", \"Subscription Id\": \"sub_id\", \"Traffic source\": \"traffic_source\",\\\n",
    "                 \"Country\" : \"co\", \"Transaction Type\": \"tr_type\", \"Site\":\"site\",\\\n",
    "                \"Payout\": \"payout\", \"Revenue\":\"revenue\"}, inplace=True)\n",
    "print(df.head(5))"
   ]
  },
  {
   "cell_type": "code",
   "execution_count": 12,
   "metadata": {},
   "outputs": [
    {
     "name": "stdout",
     "output_type": "stream",
     "text": [
      "   tr_id          tr_date   acc_id  sub_id      traffic_source             co  \\\n",
      "0      1  January 1, 2017  3002665   30848   Traffic source 95  United States   \n",
      "1      2  January 1, 2017  3002666   30849   Traffic source 95  United States   \n",
      "2      3  January 1, 2017  3002664   30847  Traffic source 222  United States   \n",
      "3      4  January 1, 2017  3002667   30850   Traffic source 73      Australia   \n",
      "4      5  January 1, 2017  3002668   30851   Traffic source 95  United States   \n",
      "\n",
      "   tr_type    site  payout  revenue        date month  \n",
      "0    trial  Site 3     0.0    28.50  2017-01-01    01  \n",
      "1  initial  Site 3     0.0    14.28  2017-01-01    01  \n",
      "2  initial  Site 5     0.0     0.86  2017-01-01    01  \n",
      "3  initial  Site 5    17.2   130.50  2017-01-01    01  \n",
      "4  initial  Site 3     0.0   119.44  2017-01-01    01  \n"
     ]
    }
   ],
   "source": [
    "#How many subscriptions did we acquire (initial & trial transaction types)?\n",
    "df['date'] = df['tr_date'].str.replace(\" \",\"\")\n",
    "df['date'] = df['tr_date'].str.replace(\",\",\"\")\n",
    "\n",
    "df['date'] = pd.to_datetime(df['date'], format='%B %d %Y').dt.strftime('%Y-%m-%d')\n",
    "df['month'] = pd.to_datetime(df['date'], format='%Y-%m-%d').dt.strftime('%m')\n",
    "\n",
    "print(df.head(5))\n"
   ]
  },
  {
   "cell_type": "code",
   "execution_count": 13,
   "metadata": {},
   "outputs": [
    {
     "name": "stdout",
     "output_type": "stream",
     "text": [
      "       cnt_trial  cnt_initial\n",
      "month                        \n",
      "01          2305        10225\n",
      "02          2189        12780\n",
      "03          2569         8559\n",
      "04          2368         9883\n",
      "05          2455        12917\n",
      "06          2356         7396\n",
      "07          2372        12010\n",
      "08          3889         8382\n",
      "09          4181         7969\n",
      "10          2678        10270\n",
      "11          3130        21059\n",
      "12          2697        18202\n"
     ]
    }
   ],
   "source": [
    "df_trial = df[df['tr_type'] == 'trial'].groupby('month').agg(cnt_trial = ('month', 'count'))\n",
    "df_initial = df[df['tr_type'] == 'initial'].groupby('month').agg(cnt_initial = ('month', 'count'))\n",
    "df_concat = pd.concat([df_trial, df_initial], axis=1, sort=False)\n",
    "print(df_concat)\n"
   ]
  },
  {
   "cell_type": "markdown",
   "metadata": {},
   "source": [
    "\n",
    "print(df_concat)\n",
    "df_concat.plot(figsize=(16, 6), linewidth=2.5)\n",
    "sns.set(font_scale=1.4)\n",
    "plt.xlabel(\"Year-Month\", labelpad=15)\n",
    "plt.ylabel(\"Clickthrough Rate %\", labelpad=15)\n",
    "plt.title(\"Daily Overall Clickthrough Rate by group type\", y=1.02, fontsize=16);"
   ]
  },
  {
   "cell_type": "code",
   "execution_count": 14,
   "metadata": {},
   "outputs": [
    {
     "data": {
      "image/png": "[encoded data removed]",
      "text/plain": [
       "<Figure size 1440x432 with 1 Axes>"
      ]
     },
     "metadata": {
      "needs_background": "light"
     },
     "output_type": "display_data"
    }
   ],
   "source": [
    "df_concat.plot(figsize=(20, 6), linewidth=3)\n",
    "sns.set(font_scale=1.4)\n",
    "plt.xlabel(\"Month\", labelpad=15)\n",
    "plt.ylabel(\"# subscriptions\", labelpad=10)\n",
    "plt.title(\"Subscription acquired by transaction types per Month\", y=1.02, fontsize=16);"
   ]
  },
  {
   "cell_type": "raw",
   "metadata": {},
   "source": [
    "df_site = df[df.groupby('Year-Month').agg('Site' = ('Site', 'count'))\n"
   ]
  },
  {
   "cell_type": "code",
   "execution_count": 15,
   "metadata": {},
   "outputs": [
    {
     "name": "stdout",
     "output_type": "stream",
     "text": [
      "        site\n",
      "month       \n",
      "01     37677\n",
      "02     39641\n",
      "03     39181\n",
      "04     39322\n",
      "05     43150\n",
      "06     38950\n",
      "07     43513\n",
      "08     43133\n",
      "09     43108\n",
      "10     42968\n",
      "11     54645\n",
      "12     56955\n"
     ]
    }
   ],
   "source": [
    "df_site = df.groupby('month').agg(site = ('site', 'count'))\n",
    "print(df_site)"
   ]
  },
  {
   "cell_type": "raw",
   "metadata": {},
   "source": [
    "print(df_site)\n",
    "df_concat.plot(figsize=(16, 6), linewidth=2.5)\n",
    "sns.set(font_scale=1.4)\n",
    "plt.xlabel(\"site\", labelpad=15)\n",
    "plt.ylabel(\"# subscriptions\", labelpad=15)\n",
    "plt.title(\"Subscription acquired by transaction types\", y=1.02, fontsize=16);"
   ]
  },
  {
   "cell_type": "code",
   "execution_count": 16,
   "metadata": {},
   "outputs": [
    {
     "name": "stdout",
     "output_type": "stream",
     "text": [
      "         tr_id        date    site  tr_type\n",
      "0            1  2017-01-01  Site 3    trial\n",
      "1            2  2017-01-01  Site 3  initial\n",
      "2            3  2017-01-01  Site 5  initial\n",
      "3            4  2017-01-01  Site 5  initial\n",
      "4            5  2017-01-01  Site 3  initial\n",
      "...        ...         ...     ...      ...\n",
      "522330  522331  2017-12-31  Site 2  initial\n",
      "522331  522332  2017-12-31  Site 1  initial\n",
      "522332  522333  2017-12-31  Site 2  initial\n",
      "522333  522334  2017-12-31  Site 1    trial\n",
      "522334  522335  2017-12-31  Site 1  initial\n",
      "\n",
      "[522335 rows x 4 columns]\n",
      "        cnt_trial  cnt_initial\n",
      "site                          \n",
      "Site 1      19646        58246\n",
      "Site 2       1777        10119\n",
      "Site 3      11075        32990\n",
      "Site 5        691        38269\n"
     ]
    }
   ],
   "source": [
    "df_site = df.filter(['tr_id','date','site','tr_type',], axis=1)\n",
    "print(df_site)\n",
    "df_site_trial = df_site[df_site['tr_type'] == 'trial'].groupby('site').agg(cnt_trial = ('site', 'count'))\n",
    "df_site_initial = df_site[df_site['tr_type'] == 'initial'].groupby('site').agg(cnt_initial = ('site', 'count'))\n",
    "df_site_concat = pd.concat([df_site_trial, df_site_initial], axis=1, sort=False)\n",
    "\n",
    "print(df_site_concat)\n",
    "#df_trial = df[df['Transaction Type'] == 'trial'].groupby('Year-Month').agg(cnt_trial = ('Year-Month', 'count'))\n"
   ]
  },
  {
   "cell_type": "code",
   "execution_count": 227,
   "metadata": {},
   "outputs": [
    {
     "name": "stdout",
     "output_type": "stream",
     "text": [
      "        cnt_trial  cnt_initial\n",
      "site                          \n",
      "Site 1      19646        58246\n",
      "Site 2       1777        10119\n",
      "Site 3      11075        32990\n",
      "Site 5        691        38269\n"
     ]
    },
    {
     "data": {
      "image/png": "[encoded data removed]",
      "text/plain": [
       "<Figure size 1152x432 with 1 Axes>"
      ]
     },
     "metadata": {},
     "output_type": "display_data"
    }
   ],
   "source": [
    "print(df_site_concat)\n",
    "df_site_concat.plot(figsize=(16, 6), linewidth=2.5)\n",
    "sns.set(font_scale=1.4)\n",
    "plt.xlabel(\"Site\", labelpad=15)\n",
    "plt.ylabel(\"# subscriptions\", labelpad=15)\n",
    "plt.title(\"Subscriptions acquired by transaction types per Site\", y=1.02, fontsize=16);"
   ]
  },
  {
   "cell_type": "markdown",
   "metadata": {},
   "source": [
    "**Calculate the contribution (income minus refunds minus affiliate payout) for each subscription. \n",
    "Rank the top 20 and the last 20 in two different tables.**"
   ]
  },
  {
   "cell_type": "code",
   "execution_count": 256,
   "metadata": {},
   "outputs": [
    {
     "name": "stdout",
     "output_type": "stream",
     "text": [
      "        sum_payout  sum_revenue  diff\n",
      "sub_id                               \n",
      "1                4            4     0\n",
      "2                4            4     0\n",
      "3                4            4     0\n",
      "        sum_payout  sum_revenue  diff\n",
      "sub_id                               \n",
      "1                4            4     0\n",
      "135797           4            4     0\n",
      "135799           1            1     0\n",
      "135800           5            5     0\n",
      "135801           1            1     0\n",
      "...            ...          ...   ...\n",
      "67906            1            1     0\n",
      "67907            1            1     0\n",
      "67908            1            1     0\n",
      "67909            2            2     0\n",
      "203707           1            1     0\n",
      "\n",
      "[203707 rows x 3 columns]\n"
     ]
    }
   ],
   "source": [
    "#print(df.head(3))\n",
    "df_diff = df.groupby('sub_id')\\\n",
    "            .agg(sum_payout = ('payout','count'), sum_revenue = ('revenue','count'))\\\n",
    "\n",
    "df_diff['diff'] = df_diff['sum_payout'] - df_diff['sum_revenue']\n",
    "print(df_diff.head(3))\n",
    "#df_diff = df_diff.sort_values(by =['diff'], ascending=False)\n",
    "df_diff = df_diff.sort_values(by =['diff'], ascending = False)\n",
    "print(df_diff)\n",
    "\n",
    "#df_trial = df[df['tr_type'] == 'trial'].groupby('month').agg(cnt_trial = ('month', 'count'))\n"
   ]
  },
  {
   "cell_type": "code",
   "execution_count": 282,
   "metadata": {},
   "outputs": [
    {
     "name": "stdout",
     "output_type": "stream",
     "text": [
      "         tr_id        date  sub_id    site  tr_type  payout  revenue\n",
      "52371    52372  2017-02-12   49070  Site 3  initial     0.0    11.70\n",
      "95776    95777  2017-03-14   49070  Site 3   rebill     0.0    10.90\n",
      "95777    95778  2017-03-14   49070  Site 3   rebill     0.0    10.10\n",
      "95778    95779  2017-03-14   49070  Site 3   rebill     0.0     8.50\n",
      "95782    95783  2017-03-14   49070  Site 3   rebill     0.0    11.40\n",
      "95786    95787  2017-03-14   49070  Site 3   rebill     0.0     9.10\n",
      "95793    95794  2017-03-14   49070  Site 3   rebill     0.0    10.80\n",
      "95801    95802  2017-03-14   49070  Site 3   rebill     0.0     8.70\n",
      "95806    95807  2017-03-14   49070  Site 3   rebill     0.0     8.20\n",
      "95809    95810  2017-03-14   49070  Site 3   rebill     0.0     8.40\n",
      "99337    99338  2017-03-18   49070  Site 3   credit     0.0    -9.51\n",
      "99338    99339  2017-03-18   49070  Site 3   credit     0.0   -10.09\n",
      "99339    99340  2017-03-18   49070  Site 3   credit     0.0   -11.39\n",
      "99340    99341  2017-03-18   49070  Site 3   credit     0.0   -12.65\n",
      "99341    99342  2017-03-18   49070  Site 3   credit     0.0   -10.44\n",
      "99342    99343  2017-03-18   49070  Site 3   credit     0.0    -4.95\n",
      "99343    99344  2017-03-18   49070  Site 3   credit     0.0   -90.00\n",
      "99344    99345  2017-03-18   49070  Site 3   credit     0.0    -8.20\n",
      "115487  115488  2017-03-30   49070  Site 3   credit     0.0   -26.70\n"
     ]
    }
   ],
   "source": [
    "\n",
    "#print(df.head(3))\n",
    "df_test3 = df[df['sub_id'] == 49070].filter(['tr_id','date','acc_id','sub_id','tr_source','site', 'tr_type', 'payout', 'revenue'], axis=1)\n",
    "\n",
    "print(df_test3)"
   ]
  },
  {
   "cell_type": "code",
   "execution_count": 17,
   "metadata": {},
   "outputs": [
    {
     "name": "stdout",
     "output_type": "stream",
     "text": [
      "['trial' 'initial' 'conversion' 'rebill' 'void' 'credit' 'chargeback']\n"
     ]
    }
   ],
   "source": [
    "#Calculate the contribution (income minus refunds minus affiliate payout) for each\n",
    "#    subscription. Rank the top 20 and the last 20 in two different tables.\n",
    "    \n",
    "print(df.tr_type.unique())"
   ]
  },
  {
   "cell_type": "markdown",
   "metadata": {},
   "source": [
    "Questions:\n",
    "1) What does it represent the 3rd column?\n",
    "    Since it it's the same with the sub_id I assumne it's an id related to billings.\n",
    "    I named it acc_id. Is it correct?\n",
    "\n",
    "2) What are the currencies of the payouts & revenue?\n",
    "\n",
    "3) What are the definitions for the following terms:\n",
    " 'conversion','void','credit','chargeback' ?\n",
    " \n",
    "4) Which transaction types are consider refund?\n",
    "\n",
    "5) Why do we have a revenue when transaction type is trial?\n",
    "\n",
    "6) How is it possible that the chargeback is higher that the initial?  See example?\n",
    "         tr_id        date  sub_id    site     tr_type  payout  revenue\n",
    "279171  279172  2017-07-29  120377  Site 1     initial     0.0     21.0\n",
    "300826  300827  2017-08-15  120377  Site 1  chargeback     0.0    -93.0\n",
    "\n"
   ]
  },
  {
   "cell_type": "code",
   "execution_count": 19,
   "metadata": {},
   "outputs": [
    {
     "name": "stdout",
     "output_type": "stream",
     "text": [
      "         tr_id        date   acc_id  sub_id    site     tr_type  payout  \\\n",
      "94693    94694  2017-03-14  3182712   63532  Site 1       trial     0.0   \n",
      "95857    95858  2017-03-14  3182712   63532  Site 1  conversion     0.0   \n",
      "134237  134238  2017-04-14  3182712   63532  Site 1      rebill     0.0   \n",
      "172731  172732  2017-05-14  3182712   63532  Site 1      rebill     0.0   \n",
      "\n",
      "        revenue  \n",
      "94693      8.20  \n",
      "95857      8.80  \n",
      "134237    11.02  \n",
      "172731    35.08  \n"
     ]
    }
   ],
   "source": [
    "\n",
    "#print(df.head(3))\n",
    "df_test3 = df[df['sub_id'] == 63532].filter(['tr_id','date','acc_id','sub_id','tr_source','site', 'tr_type', 'payout', 'revenue'], axis=1)\n",
    "\n",
    "print(df_test3)\n"
   ]
  },
  {
   "cell_type": "code",
   "execution_count": 20,
   "metadata": {},
   "outputs": [
    {
     "name": "stdout",
     "output_type": "stream",
     "text": [
      "       tr_id        date   acc_id  sub_id    site     tr_type  payout  revenue\n",
      "26372  26373  2017-01-24  3064900   41081  Site 1     initial   14.02     15.3\n",
      "68333  68334  2017-02-24  3064900   41081  Site 1      rebill   16.04     12.0\n",
      "96355  96356  2017-03-15  3064900   41081  Site 1  chargeback  -28.58     -8.3\n",
      "96356  96357  2017-03-15  3064900   41081  Site 1  chargeback  -25.98    -10.7\n"
     ]
    }
   ],
   "source": [
    "#print(df.head(3))\n",
    "df_test3 = df[df['sub_id'] == 41081].filter(['tr_id','date','acc_id','sub_id','tr_source','site', 'tr_type', 'payout', 'revenue'], axis=1)\n",
    "\n",
    "print(df_test3)\n"
   ]
  },
  {
   "cell_type": "code",
   "execution_count": 287,
   "metadata": {},
   "outputs": [
    {
     "name": "stdout",
     "output_type": "stream",
     "text": [
      "       tr_id        date  sub_id    site  tr_type  payout  revenue\n",
      "95886  95887  2017-03-14   63695  Site 5  initial     0.0     10.7\n",
      "97196  97197  2017-03-15   63695  Site 5     void     0.0    -10.1\n"
     ]
    }
   ],
   "source": [
    "#print(df.head(3))\n",
    "df_test3 = df[df['sub_id'] == 63695].filter(['tr_id','date','acc_id','sub_id','tr_source','site', 'tr_type', 'payout', 'revenue'], axis=1)\n",
    "\n",
    "print(df_test3)\n"
   ]
  },
  {
   "cell_type": "code",
   "execution_count": 21,
   "metadata": {},
   "outputs": [
    {
     "name": "stdout",
     "output_type": "stream",
     "text": [
      "       tr_id        date   acc_id  sub_id    site     tr_type  payout  revenue\n",
      "97360  97361  2017-03-16  2937766   25104  Site 3      credit  -32.86     -9.4\n",
      "98212  98213  2017-03-17  2937766   25104  Site 3  chargeback  -14.25     -9.7\n"
     ]
    }
   ],
   "source": [
    "df_test3 = df[df['sub_id'] == 25104].filter(['tr_id','date','acc_id','sub_id','tr_source','site', 'tr_type', 'payout', 'revenue'], axis=1)\n",
    "print(df_test3)"
   ]
  },
  {
   "cell_type": "code",
   "execution_count": 22,
   "metadata": {},
   "outputs": [
    {
     "name": "stdout",
     "output_type": "stream",
     "text": [
      "       tr_id        date   acc_id  sub_id    site     tr_type  payout  revenue\n",
      "97360  97361  2017-03-16  2937766   25104  Site 3      credit  -32.86     -9.4\n",
      "98212  98213  2017-03-17  2937766   25104  Site 3  chargeback  -14.25     -9.7\n"
     ]
    }
   ],
   "source": [
    "df_test3 = df[df['sub_id'] == 25104].filter(['tr_id','date','acc_id','sub_id','tr_source','site', 'tr_type', 'payout', 'revenue'], axis=1)\n",
    "print(df_test3)"
   ]
  },
  {
   "cell_type": "code",
   "execution_count": 23,
   "metadata": {},
   "outputs": [
    {
     "name": "stdout",
     "output_type": "stream",
     "text": [
      "         tr_id        date   acc_id  sub_id    site tr_type  payout  revenue\n",
      "102146  102147  2017-03-20  3196950   65887  Site 3   trial    36.4     9.36\n",
      "103101  103102  2017-03-21  3196950   65887  Site 3    void   -44.8   -67.80\n"
     ]
    }
   ],
   "source": [
    "\n",
    "df_test3 = df[df['sub_id'] == 65887].filter(['tr_id','date','acc_id','sub_id','tr_source','site', 'tr_type', 'payout', 'revenue'], axis=1)\n",
    "print(df_test3)"
   ]
  },
  {
   "cell_type": "code",
   "execution_count": 31,
   "metadata": {},
   "outputs": [
    {
     "name": "stdout",
     "output_type": "stream",
     "text": [
      "         tr_id        date  sub_id    site     tr_type  payout  revenue\n",
      "279171  279172  2017-07-29  120377  Site 1     initial     0.0     21.0\n",
      "300826  300827  2017-08-15  120377  Site 1  chargeback     0.0    -93.0\n"
     ]
    }
   ],
   "source": [
    "\n",
    "df_test3 = df[df['sub_id'] == 120377].filter(['tr_id','date','sub_id','tr_source','site', 'tr_type', 'payout', 'revenue'], axis=1)\n",
    "print(df_test3)\n",
    "\n"
   ]
  },
  {
   "cell_type": "code",
   "execution_count": 30,
   "metadata": {},
   "outputs": [
    {
     "name": "stdout",
     "output_type": "stream",
     "text": [
      "         tr_id        date   acc_id  sub_id    site  tr_type  payout  revenue\n",
      "259447  259448  2017-07-15  3491102  115754  Site 5  initial     0.0     10.0\n",
      "300836  300837  2017-08-15  3491102  115754  Site 5   rebill     0.0     33.9\n",
      "345663  345664  2017-09-15  3491102  115754  Site 5   rebill     0.0     11.0\n"
     ]
    }
   ],
   "source": [
    "df_test3 = df[df['sub_id'] == 115754].filter(['tr_id','date','acc_id','sub_id','tr_source','site', 'tr_type', 'payout', 'revenue'], axis=1)\n",
    "print(df_test3)\n"
   ]
  },
  {
   "cell_type": "code",
   "execution_count": null,
   "metadata": {},
   "outputs": [],
   "source": []
  },
  {
   "cell_type": "code",
   "execution_count": null,
   "metadata": {},
   "outputs": [],
   "source": []
  },
  {
   "cell_type": "code",
   "execution_count": null,
   "metadata": {},
   "outputs": [],
   "source": [
    "\n",
    "                 \n",
    "\"\"\"\n",
    "df_res_pos= df2[df2['result_position'].notnull()] \\\n",
    "                .groupby('result_position')        \\\n",
    "                .agg(cnt_result =('result_position','count')) \\\n",
    "                .sort_values(by=['cnt_result'], ascending=False)\n",
    "print(df_res_pos.head(3))\n",
    "\n",
    "\n",
    " .sort_values(by=[''], ascending=False)\n",
    "df_by_day = df.filter(['date','result_position'], axis=1)\n",
    "df_by_day= df_by_day[df_by_day['result_position'].notnull()]\n",
    "\n",
    "df_by_day = df_by_day\\\n",
    "                .groupby(['date','result_position'])\\\n",
    "                .agg(cnt_result =('result_position','count'))\\\n",
    "                .sort_values(by=['cnt_result'], ascending=False)\n",
    "df_by_day.reset_index()               \n",
    "df_by_day['row_number'] = df_by_day.groupby(['date']).cumcount()\n",
    "df_by_day = df_by_day[df_by_day['row_number'] == 0]\n",
    "print(df_by_day)\n",
    "\"\"\""
   ]
  },
  {
   "cell_type": "code",
   "execution_count": null,
   "metadata": {},
   "outputs": [],
   "source": []
  },
  {
   "cell_type": "code",
   "execution_count": null,
   "metadata": {},
   "outputs": [],
   "source": [
    "41081"
   ]
  },
  {
   "cell_type": "code",
   "execution_count": null,
   "metadata": {},
   "outputs": [],
   "source": []
  }
 ],
 "metadata": {
  "kernelspec": {
   "display_name": "Python 3",
   "language": "python",
   "name": "python3"
  },
  "language_info": {
   "codemirror_mode": {
    "name": "ipython",
    "version": 3
   },
   "file_extension": ".py",
   "mimetype": "text/x-python",
   "name": "python",
   "nbconvert_exporter": "python",
   "pygments_lexer": "ipython3",
   "version": "3.7.6"
  }
 },
 "nbformat": 4,
 "nbformat_minor": 4
}
